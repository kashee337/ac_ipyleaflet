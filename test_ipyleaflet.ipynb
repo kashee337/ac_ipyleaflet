{
 "cells": [
  {
   "cell_type": "code",
   "execution_count": 1,
   "metadata": {},
   "outputs": [],
   "source": [
    "from ipyleaflet import Map, Marker"
   ]
  },
  {
   "cell_type": "code",
   "execution_count": 2,
   "metadata": {},
   "outputs": [],
   "source": [
    "latitude = 35.16597954399553\n",
    "longitude = 136.89914184408428\n",
    "zoom = 15\n",
    "\n",
    "def my_callback(event, location):\n",
    "    print(event, location)"
   ]
  },
  {
   "cell_type": "code",
   "execution_count": 3,
   "metadata": {},
   "outputs": [
    {
     "data": {
      "application/vnd.jupyter.widget-view+json": {
       "model_id": "016f3c7d5df24c5fbcb2a3b15dd43092",
       "version_major": 2,
       "version_minor": 0
      },
      "text/plain": [
       "Map(center=[35.16597954399553, 136.89914184408428], controls=(ZoomControl(options=['position', 'zoom_in_text',…"
      ]
     },
     "metadata": {},
     "output_type": "display_data"
    },
    {
     "name": "stdout",
     "output_type": "stream",
     "text": [
      "move [35.16608326585308, 136.90219227907903]\n"
     ]
    }
   ],
   "source": [
    "# Mapオブジェクトmを初期化\n",
    "m = Map(center=[latitude, longitude], zoom=zoom, scroll_wheel_zoom=True)\n",
    "\n",
    "marker = Marker(location=[latitude, longitude])\n",
    "# callbackの追加\n",
    "marker.on_move(my_callback)\n",
    "\n",
    "m.add_layer(marker)\n",
    "\n",
    "display(m)"
   ]
  }
 ],
 "metadata": {
  "kernelspec": {
   "display_name": "qiita",
   "language": "python",
   "name": "qiita"
  },
  "language_info": {
   "codemirror_mode": {
    "name": "ipython",
    "version": 3
   },
   "file_extension": ".py",
   "mimetype": "text/x-python",
   "name": "python",
   "nbconvert_exporter": "python",
   "pygments_lexer": "ipython3",
   "version": "3.10.0rc1"
  }
 },
 "nbformat": 4,
 "nbformat_minor": 4
}
