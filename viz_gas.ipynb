{
 "cells": [
  {
   "cell_type": "code",
   "execution_count": 4,
   "metadata": {},
   "outputs": [],
   "source": [
    "from ipyleaflet import Map, Marker, Rectangle, AwesomeIcon, FullScreenControl\n",
    "from ipywidgets import HTML\n",
    "import overpass"
   ]
  },
  {
   "cell_type": "code",
   "execution_count": 5,
   "metadata": {},
   "outputs": [],
   "source": [
    "latitude = 35.16597954399553\n",
    "longitude = 136.89914184408428\n",
    "zoom = 15\n",
    "\n",
    "group_name = \"fuel\"\n",
    "oapi = overpass.API()\n",
    "\n",
    "\n",
    "def marker_callback(event, location):\n",
    "    \"\"\" marker位置に応じて rectのboundsも更新 \"\"\"\n",
    "    m.remove_layer(rect)\n",
    "    rect.bounds = gen_bounds(*location)\n",
    "    m.add_layer(rect)\n",
    "\n",
    "\n",
    "def remove_layers(m, group_name):\n",
    "    \"\"\" layerから特定のタグが付いたオブジェクトを削除 \"\"\"\n",
    "    for l in m.layers:\n",
    "        if hasattr(l, \"alt\") and l.alt == group_name:\n",
    "            m.remove_layer(l)\n",
    "\n",
    "\n",
    "def search_callback(change):\n",
    "    \"\"\" 更新されたbounds内のfuelを検索して更新 \"\"\"\n",
    "    bounds = change[\"new\"]\n",
    "    update_fuels(m, bounds, group_name)\n",
    "\n",
    "\n",
    "def gen_bounds(center_lat, center_lon, d_lat=0.01, d_lon=0.015):\n",
    "    \"\"\" 矩形境界を生成 \"\"\"\n",
    "    bottom = center_lat - d_lat / 2\n",
    "    left = center_lon - d_lon / 2\n",
    "    top = bottom + d_lat\n",
    "    right = left + d_lon\n",
    "\n",
    "    return ((bottom, left), (top, right))\n",
    "\n",
    "\n",
    "def update_fuels(m, bounds, group_name):\n",
    "    \"\"\" bounds内のfuelを検索してMapオブジェクトに追加 \"\"\"\n",
    "\n",
    "    query = \"(node[amenity=fuel]({0}, {1}, {2}, {3}););\".format(\n",
    "        *bounds[0], *bounds[1])\n",
    "\n",
    "    response_fuel = oapi.get(query, verbosity='geom')\n",
    "    remove_layers(m, group_name)\n",
    "\n",
    "    for features in response_fuel[\"features\"]:\n",
    "        marker = Marker(location=features[\"geometry\"][\"coordinates\"][::-1],\n",
    "                        alt=group_name,\n",
    "                        icon=AwesomeIcon(name=\"plug\",\n",
    "                                         marker_color='green',\n",
    "                                         icon_color='white'),\n",
    "                        popup=HTML(value=features[\"properties\"][\"name\"]))\n",
    "\n",
    "        m.add_layer(marker)"
   ]
  },
  {
   "cell_type": "code",
   "execution_count": 6,
   "metadata": {},
   "outputs": [
    {
     "data": {
      "application/vnd.jupyter.widget-view+json": {
       "model_id": "2746e7de39964133b69b3958845cdba8",
       "version_major": 2,
       "version_minor": 0
      },
      "text/plain": [
       "Map(center=[35.16597954399553, 136.89914184408428], controls=(ZoomControl(options=['position', 'zoom_in_text',…"
      ]
     },
     "metadata": {},
     "output_type": "display_data"
    }
   ],
   "source": [
    "# 各種オブジェクトの初期化\n",
    "m = Map(center=[latitude, longitude], zoom=zoom, scroll_wheel_zoom=True)\n",
    "m.add_control(FullScreenControl())\n",
    "\n",
    "marker = Marker(location=[latitude, longitude],\n",
    "                icon=AwesomeIcon(name='car',\n",
    "                                 marker_color='red',\n",
    "                                 icon_color='white'))\n",
    "rect = Rectangle(bounds=gen_bounds(latitude, longitude))\n",
    "update_fuels(m, rect.bounds, group_name)\n",
    "\n",
    "# callbackの追加\n",
    "marker.on_move(marker_callback)\n",
    "rect.observe(search_callback, \"bounds\")\n",
    "\n",
    "m.add_layer(marker)\n",
    "m.add_layer(rect)\n",
    "\n",
    "display(m)"
   ]
  }
 ],
 "metadata": {
  "kernelspec": {
   "display_name": "qiita",
   "language": "python",
   "name": "qiita"
  },
  "language_info": {
   "codemirror_mode": {
    "name": "ipython",
    "version": 3
   },
   "file_extension": ".py",
   "mimetype": "text/x-python",
   "name": "python",
   "nbconvert_exporter": "python",
   "pygments_lexer": "ipython3",
   "version": "3.10.0rc1"
  }
 },
 "nbformat": 4,
 "nbformat_minor": 4
}
